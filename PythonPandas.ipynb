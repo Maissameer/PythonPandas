{
  "nbformat": 4,
  "nbformat_minor": 0,
  "metadata": {
    "colab": {
      "name": "PythonPandas.ipynb",
      "provenance": [],
      "collapsed_sections": [],
      "authorship_tag": "ABX9TyMlQVv82gNxCnneYx6ZemsL",
      "include_colab_link": true
    },
    "kernelspec": {
      "name": "python3",
      "display_name": "Python 3"
    },
    "language_info": {
      "name": "python"
    }
  },
  "cells": [
    {
      "cell_type": "markdown",
      "metadata": {
        "id": "view-in-github",
        "colab_type": "text"
      },
      "source": [
        "<a href=\"https://colab.research.google.com/github/Maissameer/PythonPandas/blob/main/PythonPandas.ipynb\" target=\"_parent\"><img src=\"https://colab.research.google.com/assets/colab-badge.svg\" alt=\"Open In Colab\"/></a>"
      ]
    },
    {
      "cell_type": "code",
      "metadata": {
        "colab": {
          "base_uri": "https://localhost:8080/"
        },
        "id": "ssQYLd1kyde3",
        "outputId": "a467b5e2-ee16-4d8f-bdcf-c88197864a93"
      },
      "source": [
        "import pandas as pd\n",
        "\n",
        "# Create list\n",
        "fruits_list = ['Apple', 10, 'Orange', 55.50]\n",
        "print(fruits_list)\n",
        "\n",
        "# Create DataFrame from list\n",
        "fruits_df = pd.DataFrame(fruits_list, columns=['Fruits'])\n",
        "print(fruits_df)"
      ],
      "execution_count": null,
      "outputs": [
        {
          "output_type": "stream",
          "name": "stdout",
          "text": [
            "['Apple', 10, 'Orange', 55.5]\n",
            "   Fruits\n",
            "0   Apple\n",
            "1      10\n",
            "2  Orange\n",
            "3    55.5\n"
          ]
        }
      ]
    },
    {
      "cell_type": "code",
      "metadata": {
        "colab": {
          "base_uri": "https://localhost:8080/"
        },
        "id": "TKkEVerL1DE-",
        "outputId": "52df70b5-b1e6-43ce-db3b-070778b07514"
      },
      "source": [
        "import pandas as pd\n",
        "\n",
        "# Create list\n",
        "fruits_list = ['Apple', 'Banana', 'Orange','Mango']\n",
        "print(fruits_list)\n",
        "\n",
        "# Create DataFrame from list\n",
        "fruits_df = pd.DataFrame(fruits_list, index=['Fruit1', 'Fruit2', 'Fruit3', 'Fruit4'])\n",
        "print(fruits_df)"
      ],
      "execution_count": null,
      "outputs": [
        {
          "output_type": "stream",
          "name": "stdout",
          "text": [
            "['Apple', 'Banana', 'Orange', 'Mango']\n",
            "             0\n",
            "Fruit1   Apple\n",
            "Fruit2  Banana\n",
            "Fruit3  Orange\n",
            "Fruit4   Mango\n"
          ]
        }
      ]
    },
    {
      "cell_type": "code",
      "metadata": {
        "colab": {
          "base_uri": "https://localhost:8080/"
        },
        "id": "q33xf_mz1jVc",
        "outputId": "9203b612-8ffb-418f-dfa3-0c99d761261c"
      },
      "source": [
        "import pandas as pd\n",
        "\n",
        "# Create list\n",
        "price_list = ['50', '100', '60', '20']\n",
        "print(price_list)\n",
        "\n",
        "# Create DataFrame from list\n",
        "price_df = pd.DataFrame(price_list)\n",
        "print(\"Data type before : \", price_df.dtypes)\n",
        "\n",
        "# Create DataFrame from list with type change\n",
        "price_df = pd.DataFrame(price_list, dtype='float64')\n",
        "print(\"Data type after : \", price_df.dtypes)\n",
        "print(price_df)"
      ],
      "execution_count": null,
      "outputs": [
        {
          "output_type": "stream",
          "name": "stdout",
          "text": [
            "['50', '100', '60', '20']\n",
            "Data type before :  0    object\n",
            "dtype: object\n",
            "Data type after :  0    float64\n",
            "dtype: object\n",
            "       0\n",
            "0   50.0\n",
            "1  100.0\n",
            "2   60.0\n",
            "3   20.0\n"
          ]
        }
      ]
    },
    {
      "cell_type": "code",
      "metadata": {
        "colab": {
          "base_uri": "https://localhost:8080/"
        },
        "id": "XuBQHbsW26JT",
        "outputId": "5c2f1a60-fb7f-4258-f092-8eabb0522c2f"
      },
      "source": [
        "import pandas as pd\n",
        "\n",
        "# Create list\n",
        "fruits_list = [['Apple', 'Banana', 'Orange', 'Mango'],[120, 40, 80, 500]]\n",
        "print(fruits_list)\n",
        "\n",
        "# Create DataFrame from list\n",
        "fruits_df = pd.DataFrame(fruits_list).transpose()\n",
        "print(fruits_df)\n"
      ],
      "execution_count": null,
      "outputs": [
        {
          "output_type": "stream",
          "name": "stdout",
          "text": [
            "[['Apple', 'Banana', 'Orange', 'Mango'], [120, 40, 80, 500]]\n",
            "        0    1\n",
            "0   Apple  120\n",
            "1  Banana   40\n",
            "2  Orange   80\n",
            "3   Mango  500\n"
          ]
        }
      ]
    },
    {
      "cell_type": "code",
      "metadata": {
        "colab": {
          "base_uri": "https://localhost:8080/"
        },
        "id": "6AKfP0Xg4SKN",
        "outputId": "06fbd4e7-1b7e-4378-fcdf-512cfb01b180"
      },
      "source": [
        "import pandas as pd\n",
        "\n",
        "# Create multiple lists\n",
        "fruits_list = ['Apple', 'Banana', 'Orange', 'Mango']\n",
        "price_list = [120, 40, 80, 500]\n",
        "\n",
        "# Create dict\n",
        "fruits_dict = {'Name': fruits_list,\n",
        "               'Price': price_list}\n",
        "print(fruits_dict)\n",
        "\n",
        "# Create DataFrame from dict\n",
        "fruits_df = pd.DataFrame(fruits_dict)\n",
        "print(fruits_df)"
      ],
      "execution_count": null,
      "outputs": [
        {
          "output_type": "stream",
          "name": "stdout",
          "text": [
            "{'Name': ['Apple', 'Banana', 'Orange', 'Mango'], 'Price': [120, 40, 80, 500]}\n",
            "     Name  Price\n",
            "0   Apple    120\n",
            "1  Banana     40\n",
            "2  Orange     80\n",
            "3   Mango    500\n"
          ]
        }
      ]
    },
    {
      "cell_type": "code",
      "metadata": {
        "colab": {
          "base_uri": "https://localhost:8080/"
        },
        "id": "1UECVrr76f5Z",
        "outputId": "4b21d184-2896-4e36-e0f6-d6d2b5229d63"
      },
      "source": [
        "import pandas as pd\n",
        "\n",
        "student_dict = {'Name': ['Joe', 'Nat', 'Harry','Jack','Jose','Jill','Rose'],\n",
        "                'Age': [20, 21, 19,17,18,19,17],\n",
        "                'Marks': [85.10, 77.80, 91.54,72,87.9,90,72]}\n",
        "\n",
        "# create DataFrame from dict\n",
        "student_df = pd.DataFrame(student_dict)\n",
        "\n",
        "# display first 5 rows\n",
        "topRows = student_df.tail(-2)\n",
        "print(topRows)"
      ],
      "execution_count": null,
      "outputs": [
        {
          "output_type": "stream",
          "name": "stdout",
          "text": [
            "    Name  Age  Marks\n",
            "2  Harry   19  91.54\n",
            "3   Jack   17  72.00\n",
            "4   Jose   18  87.90\n",
            "5   Jill   19  90.00\n",
            "6   Rose   17  72.00\n"
          ]
        }
      ]
    },
    {
      "cell_type": "code",
      "metadata": {
        "colab": {
          "base_uri": "https://localhost:8080/"
        },
        "id": "9Ixv_oGn8LOh",
        "outputId": "3e8af293-aa00-4673-ce66-7affd71e2306"
      },
      "source": [
        "import pandas as pd\n",
        "\n",
        "index = pd.MultiIndex.from_tuples([('Standard 1', 'Class A'), ('Standard 1', 'Class B'),\n",
        "                                   ('Standard 2', 'Class A'), ('Standard 2', 'Class B'),\n",
        "                                   ('Standard 3', 'Class A'), ('Standard 3', 'Class B')],\n",
        "                                  names=['Standard', 'Class'])\n",
        "\n",
        "columns = pd.MultiIndex.from_tuples([('Name', 'Surname'),\n",
        "('Marks', 'Percentage')])\n",
        "\n",
        "# create multi-index dataframe\n",
        "student_df = pd.DataFrame([('Joe', 91.56), ('Nat', 87.90),('Harry', 70.10), \n",
        "                           ('Sam', 65.48), (\"Jill\", 72), (\"Jane\", 80)],\n",
        "                          index=index, columns=columns)\n",
        "\n",
        "topRows = student_df.head()\n",
        "print(topRows)"
      ],
      "execution_count": null,
      "outputs": [
        {
          "output_type": "stream",
          "name": "stdout",
          "text": [
            "                      Name      Marks\n",
            "                   Surname Percentage\n",
            "Standard   Class                     \n",
            "Standard 1 Class A     Joe      91.56\n",
            "           Class B     Nat      87.90\n",
            "Standard 2 Class A   Harry      70.10\n",
            "           Class B     Sam      65.48\n",
            "Standard 3 Class A    Jill      72.00\n"
          ]
        }
      ]
    },
    {
      "cell_type": "code",
      "metadata": {
        "colab": {
          "base_uri": "https://localhost:8080/"
        },
        "id": "STd75V2j9SUq",
        "outputId": "9a5849d7-3f63-4d21-eb8a-7f278f8dd7e6"
      },
      "source": [
        "import pandas as pd\n",
        "\n",
        "student_dict = {'Name': ['Joe', 'Nat', 'Harry',], 'Age': [20, 21, 19], \n",
        "                'Marks': [85.10, 77.80, 91.54]}\n",
        "\n",
        "# create DataFrame from dict\n",
        "student_df = pd.DataFrame(student_dict)\n",
        "print(student_df)\n",
        "student_df.at[2,\"Age\"]= 55\n",
        "value = student_df.at[2,\"Age\"]\n",
        "\n",
        "print(value)  # --> Output: 55\n",
        "\n"
      ],
      "execution_count": null,
      "outputs": [
        {
          "output_type": "stream",
          "name": "stdout",
          "text": [
            "    Name  Age  Marks\n",
            "0    Joe   20  85.10\n",
            "1    Nat   21  77.80\n",
            "2  Harry   19  91.54\n",
            "55\n"
          ]
        }
      ]
    },
    {
      "cell_type": "code",
      "metadata": {
        "colab": {
          "base_uri": "https://localhost:8080/"
        },
        "id": "4Qey4CyC-fCo",
        "outputId": "7860fa15-326b-41b0-d0ec-12722c875a7b"
      },
      "source": [
        "import pandas as pd\n",
        "\n",
        "student_dict = {'Name': ['Joe', 'Nat', 'Harry',], 'Age': [20, 21, 19],\n",
        "                'Marks': [85.10, 77.80, 91.54]}\n",
        "\n",
        "# create DataFrame from dict\n",
        "student_df = pd.DataFrame(student_dict)\n",
        "print(student_df.at[2,\"Age\"])\n",
        "\n",
        "# change the value\n",
        "student_df.at[2,\"Age\"] = 50\n",
        "print(student_df.at[2,\"Age\"])"
      ],
      "execution_count": null,
      "outputs": [
        {
          "output_type": "stream",
          "name": "stdout",
          "text": [
            "19\n",
            "50\n"
          ]
        }
      ]
    },
    {
      "cell_type": "code",
      "metadata": {
        "colab": {
          "base_uri": "https://localhost:8080/"
        },
        "id": "-w1p8AL7_ql2",
        "outputId": "c883cdf4-ac02-4d94-9eea-fd0bafba2949"
      },
      "source": [
        "import pandas as pd\n",
        "\n",
        "student_dict = {\"name\": [\"Joe\", \"Nat\"], \"age\": [20, 21], \"marks\": [85.10, 77.80]}\n",
        "\n",
        "student_df = pd.DataFrame(student_dict)\n",
        "print(student_df.columns.values)\n",
        "\n",
        "# drop 2 columns at a time\n",
        "student_df = student_df.drop(columns=['age', 'marks'])\n",
        "\n",
        "print(student_df.columns.values)"
      ],
      "execution_count": null,
      "outputs": [
        {
          "output_type": "stream",
          "name": "stdout",
          "text": [
            "['name' 'age' 'marks']\n",
            "['name']\n"
          ]
        }
      ]
    }
  ]
}